{
 "cells": [
  {
   "cell_type": "markdown",
   "id": "8f8500de-b2eb-4aee-b1ea-1f42410806c0",
   "metadata": {
    "tags": []
   },
   "source": [
    "# Model: v100n"
   ]
  },
  {
   "cell_type": "code",
   "execution_count": null,
   "id": "ebc84ec8-33cd-4200-acda-7d4b47eb9d11",
   "metadata": {},
   "outputs": [],
   "source": [
    "model = 'v100n'\n",
    "model_pytorch = 'v100n.pt'\n",
    "\n",
    "test_dataset = 'v' # no attacked\n",
    "test_dataset_a = 'v_test' # attacked\n",
    "test_dataset_p = 'v100n_a' # patched\n",
    "\n",
    "labels = [0, 1, 2, 3]\n",
    "imagesize = [1920, 1080]"
   ]
  },
  {
   "cell_type": "markdown",
   "id": "cc61134e-1a96-46a8-ab35-f0978164556c",
   "metadata": {},
   "source": [
    "## 1. No attacked"
   ]
  },
  {
   "cell_type": "code",
   "execution_count": null,
   "id": "b2a9f3c0-4679-4f9b-a8b8-31237b99efdc",
   "metadata": {},
   "outputs": [],
   "source": [
    "from functions_test import test_map_several\n",
    "test_map_several(model, labels, imagesize, test_dataset, model_pytorch)"
   ]
  },
  {
   "cell_type": "code",
   "execution_count": null,
   "id": "7e6b3e26-0671-4633-aaa2-6673ebae8ff7",
   "metadata": {},
   "outputs": [],
   "source": [
    "iou_t = 0.65 # IOU threshold\n",
    "\n",
    "from functions_test import test_map_single\n",
    "test_map_single(iou_t, model, labels, imagesize, test_dataset, model_pytorch)"
   ]
  },
  {
   "cell_type": "markdown",
   "id": "fc2b54a0-04f8-4a6a-8284-a6fc48bec673",
   "metadata": {},
   "source": [
    "## 2. Attacked"
   ]
  },
  {
   "cell_type": "code",
   "execution_count": null,
   "id": "e5822e0a-0620-4809-9a0f-7d9574d81f82",
   "metadata": {},
   "outputs": [],
   "source": [
    "from functions_test import test_map_several\n",
    "test_map_several(model, labels, imagesize, test_dataset_a, model_pytorch)"
   ]
  },
  {
   "cell_type": "code",
   "execution_count": null,
   "id": "86ad191c-8bb8-47d2-81f3-53e4f7f0d7ef",
   "metadata": {},
   "outputs": [],
   "source": [
    "iou_t = 0.65 # IOU threshold\n",
    "\n",
    "from functions_test import test_map_single\n",
    "test_map_single(iou_t, model, labels, imagesize, test_dataset_a, model_pytorch)"
   ]
  },
  {
   "cell_type": "markdown",
   "id": "6cfca072",
   "metadata": {},
   "source": [
    "## 3. Patched"
   ]
  },
  {
   "cell_type": "code",
   "execution_count": null,
   "id": "69a4c067",
   "metadata": {},
   "outputs": [],
   "source": [
    "from functions_test import test_map_several\n",
    "test_map_several(model, labels, imagesize, test_dataset_p, model_pytorch)"
   ]
  },
  {
   "cell_type": "code",
   "execution_count": null,
   "id": "df688b56",
   "metadata": {},
   "outputs": [],
   "source": [
    "iou_t = 0.65 # IOU threshold\n",
    "\n",
    "from functions_test import test_map_single\n",
    "test_map_single(iou_t, model, labels, imagesize, test_dataset_p, model_pytorch)"
   ]
  }
 ],
 "metadata": {
  "interpreter": {
   "hash": "7eabd979c969dbb935b3edd246af3d1eb868fbc23737535033d7f616ea0fdbb6"
  },
  "kernelspec": {
   "display_name": "Python 3.9.7 ('base')",
   "language": "python",
   "name": "python3"
  },
  "language_info": {
   "codemirror_mode": {
    "name": "ipython",
    "version": 3
   },
   "file_extension": ".py",
   "mimetype": "text/x-python",
   "name": "python",
   "nbconvert_exporter": "python",
   "pygments_lexer": "ipython3",
   "version": "3.9.7"
  }
 },
 "nbformat": 4,
 "nbformat_minor": 5
}
