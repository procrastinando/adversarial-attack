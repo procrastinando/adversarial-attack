{
  "cells": [
    {
      "cell_type": "markdown",
      "metadata": {
        "id": "OgchWrzrV2Ea"
      },
      "source": [
        "# 1. Requirements"
      ]
    },
    {
      "cell_type": "markdown",
      "metadata": {
        "id": "ETme9n-JV2Ec"
      },
      "source": [
        "## 1.1. Install requirements"
      ]
    },
    {
      "cell_type": "code",
      "execution_count": null,
      "metadata": {
        "id": "gWDziG_eV2Ed"
      },
      "outputs": [],
      "source": [
        "!git clone https://github.com/procrastinando/adversarial-attack\n",
        "%cd adversarial-attack\n",
        "%pip install -r requirements.txt"
      ]
    },
    {
      "cell_type": "markdown",
      "metadata": {
        "id": "RhmrjSLvV2Ee"
      },
      "source": [
        "## 1.2. Download dataset"
      ]
    },
    {
      "cell_type": "code",
      "execution_count": null,
      "metadata": {
        "id": "1qlFLfdVV2Ee"
      },
      "outputs": [],
      "source": [
        "from google.colab import drive\n",
        "drive.mount('/content/drive/')\n",
        "!unzip /content/drive/MyDrive/datasets/traffic_signs_reduced.zip -d /content/adversarial-attack/traffic_signs/"
      ]
    },
    {
      "cell_type": "markdown",
      "metadata": {
        "id": "3TBvfmVsV2Ef"
      },
      "source": [
        "# 2. Preparations"
      ]
    },
    {
      "cell_type": "code",
      "execution_count": null,
      "metadata": {
        "id": "rTRCbVtmV2Ef"
      },
      "outputs": [],
      "source": [
        "base_dataset = 'v' # raw dataset"
      ]
    },
    {
      "cell_type": "markdown",
      "metadata": {
        "id": "k2FSmg4mV2Eg"
      },
      "source": [
        "## 2.1. Split dataset"
      ]
    },
    {
      "cell_type": "code",
      "execution_count": null,
      "metadata": {
        "id": "I7tPXFcuV2Eg"
      },
      "outputs": [],
      "source": [
        "dataset = 'traffic_signs/' + base_dataset + '/'\n",
        "labels = [0, 1, 2, 3]\n",
        "proportion = [0.7, 0.2, 0.1]"
      ]
    },
    {
      "cell_type": "code",
      "execution_count": null,
      "metadata": {
        "id": "aGOpvAEqV2Eh"
      },
      "outputs": [],
      "source": [
        "import os\n",
        "import shutil\n",
        "import random\n",
        "from pathlib import Path\n",
        "\n",
        "Path(dataset + 'images/test/').mkdir(parents=True, exist_ok=True)\n",
        "Path(dataset + 'images/train/').mkdir(parents=True, exist_ok=True)\n",
        "Path(dataset + 'images/val/').mkdir(parents=True, exist_ok=True)\n",
        "Path(dataset + 'labels/test/').mkdir(parents=True, exist_ok=True)\n",
        "Path(dataset + 'labels/train/').mkdir(parents=True, exist_ok=True)\n",
        "Path(dataset + 'labels/val/').mkdir(parents=True, exist_ok=True)\n",
        "\n",
        "for k in labels:\n",
        "    images_files = os.listdir(dataset + 'images/' + str(k))\n",
        "    tvt = [0.7, 0.2, 0.1] # Train, validation, test\n",
        "    tvt[2] = int(len(images_files)*tvt[2])\n",
        "    tvt[1] = int(len(images_files)*tvt[1])\n",
        "    tvt[0] = len(images_files) - tvt[1] - tvt[2]\n",
        "    for i in range(tvt[2]):\n",
        "        images_files = os.listdir(dataset + 'images/' + str(k))\n",
        "        images_files_ne = [x.split('.')[0] for x in images_files]\n",
        "        random_image = random.choice(images_files_ne)\n",
        "        shutil.move(dataset + 'images/' + str(k) + '/' + random_image + '.jpg', dataset + 'images/test/' + random_image + '.jpg')\n",
        "        shutil.move(dataset + 'labels/' + str(k) + '/' + random_image + '.txt', dataset + 'labels/test/' + random_image + '.txt')\n",
        "    for i in range(tvt[1]):\n",
        "        images_files = os.listdir(dataset + 'images/' + str(k))\n",
        "        images_files_ne = [x.split('.')[0] for x in images_files]\n",
        "        random_image = random.choice(images_files_ne)\n",
        "        shutil.move(dataset + 'images/' + str(k) + '/' + random_image + '.jpg', dataset + 'images/val/')\n",
        "        shutil.move(dataset + 'labels/' + str(k) + '/' + random_image + '.txt', dataset + 'labels/val/')\n",
        "    for i in range(tvt[0]):\n",
        "        images_files = os.listdir(dataset + 'images/' + str(k))\n",
        "        images_files_ne = [x.split('.')[0] for x in images_files]\n",
        "        random_image = random.choice(images_files_ne)\n",
        "        shutil.move(dataset + 'images/' + str(k) + '/' + random_image + '.jpg', dataset + 'images/train/')\n",
        "        shutil.move(dataset + 'labels/' + str(k) + '/' + random_image + '.txt', dataset + 'labels/train/')\n",
        "    shutil.rmtree(dataset + 'images/' + str(k))\n",
        "    shutil.rmtree(dataset + 'labels/' + str(k))"
      ]
    },
    {
      "cell_type": "markdown",
      "metadata": {
        "id": "YPpx6RUjV2Ei"
      },
      "source": [
        "## 2.2. Create cropped images"
      ]
    },
    {
      "cell_type": "code",
      "execution_count": null,
      "metadata": {
        "id": "XgsQ0smEV2Ej"
      },
      "outputs": [],
      "source": [
        "directories = ['test/', 'train/', 'val/']\n",
        "imagesize = [1920, 1080]\n",
        "label_list = [0, 1, 2, 3]\n",
        "\n",
        "full_size_path = 'traffic_signs/' + base_dataset + '/' # traffic_signs/v/\n",
        "cropped_path = 'traffic_signs/' + base_dataset + '_crop/' # traffic_signs/v_crop/"
      ]
    },
    {
      "cell_type": "code",
      "execution_count": null,
      "metadata": {
        "id": "yN5Y9BWLV2Ej"
      },
      "outputs": [],
      "source": [
        "from create_cropped import create_crop\n",
        "create_crop(full_size_path, cropped_path, directories, imagesize, label_list)"
      ]
    },
    {
      "cell_type": "markdown",
      "metadata": {
        "id": "NIX-2snLV2Ej"
      },
      "source": [
        "## 2.3. Create base model dataset"
      ]
    },
    {
      "cell_type": "code",
      "execution_count": null,
      "metadata": {
        "id": "SIj71HG5V2Ek"
      },
      "outputs": [],
      "source": [
        "base_model = 'v100n' # base dataset name\n",
        "\n",
        "import shutil\n",
        "import os\n",
        "from pathlib import Path\n",
        "\n",
        "folders = ['test/', 'train/', 'val/']\n",
        "\n",
        "shutil.copytree(full_size_path, 'traffic_signs/' + base_model + '/train/') # Copy full size images: traffic_signs/v/ to traffic_signs/v100n/crop/\n",
        "\n",
        "# Copy cropped images\n",
        "for i in folders:\n",
        "    images = os.listdir(cropped_path + 'images/' + i)\n",
        "    labels = os.listdir(cropped_path + 'labels/' + i)\n",
        "\n",
        "    for j in images:\n",
        "        shutil.copy(cropped_path + 'images/' + i + j, 'traffic_signs/' + base_model + '/train/images/' + i + j)\n",
        "    \n",
        "    for k in labels:\n",
        "        shutil.copy(cropped_path + 'labels/' + i + k, 'traffic_signs/' + base_model + '/train/labels/' + i + k)\n",
        "  \n",
        "# Copy full size images: traffic_signs/v/ to traffic_signs/v100n/\n",
        "Path('traffic_signs/' + base_model + '/images/test/').mkdir(parents=True, exist_ok=True)\n",
        "Path('traffic_signs/' + base_model + '/images/train/').mkdir(parents=True, exist_ok=True)\n",
        "Path('traffic_signs/' + base_model + '/images/val/').mkdir(parents=True, exist_ok=True)\n",
        "Path('traffic_signs/' + base_model + '/labels/test/').mkdir(parents=True, exist_ok=True)\n",
        "Path('traffic_signs/' + base_model + '/labels/train/').mkdir(parents=True, exist_ok=True)\n",
        "Path('traffic_signs/' + base_model + '/labels/val/').mkdir(parents=True, exist_ok=True)\n",
        "\n",
        "for i in folders:\n",
        "    images = os.listdir(full_size_path + 'images/' + i)\n",
        "    labels = os.listdir(full_size_path + 'labels/' + i)\n",
        "\n",
        "    for j in images:\n",
        "        shutil.copy(full_size_path + 'images/' + i + j, 'traffic_signs/' + base_model + '/images/' + i + j)\n",
        "    \n",
        "    for k in labels:\n",
        "        shutil.copy(full_size_path + 'labels/' + i + k, 'traffic_signs/' + base_model + '/labels/' + i + k)"
      ]
    },
    {
      "cell_type": "markdown",
      "metadata": {
        "id": "3NNDyxdaV2Ek"
      },
      "source": [
        "# 3. Train"
      ]
    },
    {
      "cell_type": "code",
      "execution_count": null,
      "metadata": {
        "id": "mmlbnA7rV2Ek"
      },
      "outputs": [],
      "source": [
        "base_model = 'v100n'"
      ]
    },
    {
      "cell_type": "code",
      "execution_count": null,
      "metadata": {
        "colab": {
          "base_uri": "https://localhost:8080/",
          "height": 35
        },
        "id": "g1haNJDJV2El",
        "outputId": "9ede0c02-8af5-4607-eddb-d9cb58803419"
      },
      "outputs": [],
      "source": [
        "import shutil\n",
        "from IPython.display import clear_output\n",
        "\n",
        "!python train.py --batch 64 --epochs 1000 --data v100n.yaml --weights yolov5n.pt --patience 100 --cache --device 0\n",
        "clear_output()\n",
        "\n",
        "run = 'runs/train/exp/weights/best.pt' # trained best model\n",
        "shutil.copy(run, 'traffic_signs/' + base_model + '/' + base_model + '.pt')"
      ]
    },
    {
      "cell_type": "markdown",
      "metadata": {
        "id": "ZD55FWUYV2El"
      },
      "source": [
        "# 4. Attack"
      ]
    },
    {
      "cell_type": "code",
      "execution_count": null,
      "metadata": {
        "id": "-WXbK_8BV2Em"
      },
      "outputs": [],
      "source": [
        "base_dataset = 'v' # base images location to create a training dataset\n",
        "\n",
        "attack_dataset = 'v100n' # image dataset to be attacked and model location"
      ]
    },
    {
      "cell_type": "code",
      "execution_count": null,
      "metadata": {
        "id": "cFgOJQqOV2Em"
      },
      "outputs": [],
      "source": [
        "iou_t = 0.15 # IOU threshold\n",
        "grid = [[3, 4, 5], [3, 4, 5]] # grid and factor\n",
        "\n",
        "folders = ['test/', 'train/', 'val/']\n",
        "labels = [0, 1, 2, 3]\n",
        "imagesize = [1920, 1080]\n",
        "color = [[(0, 0, 255), (0, 255, 255), (0, 0, 0)], ['_r', '_y', '_b']]"
      ]
    },
    {
      "cell_type": "markdown",
      "metadata": {
        "id": "xgAgdEnWV2Em"
      },
      "source": [
        "## 4.1. Generate adversarial dataset"
      ]
    },
    {
      "cell_type": "code",
      "execution_count": null,
      "metadata": {
        "id": "HAv3LgDsV2Em"
      },
      "outputs": [],
      "source": [
        "# ANNOTATION CONVERSION\n",
        "\n",
        "def yoloconversion(file, label, imagesize):\n",
        "    dataframe = pd.read_csv(file, sep=\" \", header=None)\n",
        "    dataframe = dataframe.loc[dataframe[0] == label]\n",
        "\n",
        "    xmin = (dataframe[1] - dataframe[3]/2) * imagesize[0]\n",
        "    dataframe['xmin'] = xmin\n",
        "    xmax = (dataframe[1] + dataframe[3]/2) * imagesize[0]\n",
        "    dataframe['xmax'] = xmax\n",
        "    ymin = (dataframe[2] - dataframe[4]/2) * imagesize[1]\n",
        "    dataframe['ymin'] = ymin\n",
        "    ymax = (dataframe[2] + dataframe[4]/2) * imagesize[1]\n",
        "    dataframe['ymax'] = ymax\n",
        "        \n",
        "    if dataframe.shape[0] == 0:\n",
        "        dataframe = [[0, 0, 0, 0, 0, 0, 0, 0, 0]]\n",
        "    else:\n",
        "        dataframe = dataframe.to_numpy()\n",
        "        dataframe.astype(int)\n",
        "\n",
        "    return dataframe # [x, y, w, h, class, xmin, xmax, ymin, ymax]\n",
        "\n",
        "# RUN THE MODEL\n",
        "\n",
        "def run(model, file, label, img_dim): # (model, img file, label to analize, img_dimensions[height, width])\n",
        "    #s = int(math.sqrt(img_dim[0] * img_dim[1])/2)\n",
        "    #results = model(file, size=s)\n",
        "    results = model(file)\n",
        "    dataframe = results.pandas().xyxy[0]\n",
        "    dataframe = dataframe.loc[dataframe['class'] == label]\n",
        "\n",
        "    if dataframe.shape[0] == 0:\n",
        "        dataframe = [[img_dim[1]/2, img_dim[0]/2, img_dim[1]/2, img_dim[0]/2, 0, label, '']]\n",
        "    else:\n",
        "        dataframe = dataframe.to_numpy()\n",
        "\n",
        "    return dataframe # [xmin, ymin, xmax, ymax, confidence, class, class_name]\n",
        "\n",
        "# INTERSECTION OVER UNION\n",
        "\n",
        "def intersectionoverunion(b1, b2): # [[xmin, ymin, xmax, ymax], [xmin, ymin, xmax, ymax]]\n",
        "    dx = min(b1[2], b2[2]) - max(b1[0], b2[0])\n",
        "    dy = min(b1[3], b2[3]) - max(b1[1], b2[1])\n",
        "\n",
        "    try:\n",
        "        iou = dx*dy / ((b1[2]-b1[0])*(b1[3]-b1[1]) + (b2[2]-b2[0])*(b2[3]-b2[1]) - dx*dy)\n",
        "    except ZeroDivisionError:\n",
        "        iou = 0\n",
        "    return iou\n",
        "\n",
        "# CROP IMAGE\n",
        "\n",
        "def cropimage(image, df_object): # df_object[class, x, y, w, h, xmin, xmax, ymin, ymax]\n",
        "    xsx = int((df_object[6]-df_object[5])/2)\n",
        "    xsy = int((df_object[8]-df_object[7])/2)\n",
        "\n",
        "    xmin = int(df_object[5]) - xsx\n",
        "    xmax = int(df_object[6]) + xsx\n",
        "    ymin = int(df_object[7]) - xsy\n",
        "    ymax = int(df_object[8]) + xsy\n",
        "\n",
        "    bb_end = [xmax-xmin-xsx, ymax-ymin-xsy]\n",
        "\n",
        "    if xmin < 0:\n",
        "        xmin = 0\n",
        "    if xmax > image.shape[1]:\n",
        "        xmax = image.shape[1]\n",
        "    if ymin < 0:\n",
        "        ymin = 0\n",
        "    if ymax > image.shape[0]:\n",
        "        ymax = image.shape[0]\n",
        "\n",
        "    return [xmin, ymin, xmax, ymax, xsx, xsy, bb_end[0], bb_end[1]] # [crop, bounding box]"
      ]
    },
    {
      "cell_type": "code",
      "execution_count": null,
      "metadata": {
        "colab": {
          "base_uri": "https://localhost:8080/",
          "height": 274
        },
        "id": "2c4ZSXx1V2En",
        "outputId": "1e402c3d-5229-46da-be03-868d532c9f9f"
      },
      "outputs": [],
      "source": [
        "import cv2\n",
        "import cvzone\n",
        "import numpy as np\n",
        "import pandas as pd\n",
        "import torch\n",
        "import os\n",
        "import shutil\n",
        "import matplotlib.pyplot as plt\n",
        "from IPython.display import Image, clear_output\n",
        "import math\n",
        "import time\n",
        "from pathlib import Path\n",
        "\n",
        "\n",
        "# Parameters\n",
        "\n",
        "input_path = 'traffic_signs/' + attack_dataset + '/'\n",
        "path_output = 'traffic_signs/' + attack_dataset + '_a/'\n",
        "\n",
        "model_path = 'traffic_signs/v100n/' + attack_dataset + '.pt'\n",
        "model = torch.hub.load('', 'custom', path=model_path, source='local')\n",
        "model.iou = iou_t\n",
        "\n",
        "# Creating directories\n",
        "\n",
        "Path(path_output + 'patches/').mkdir(parents=True, exist_ok=True)\n",
        "Path(path_output + 'images/test/').mkdir(parents=True, exist_ok=True)\n",
        "Path(path_output + 'images/train/').mkdir(parents=True, exist_ok=True)\n",
        "Path(path_output + 'images/val/').mkdir(parents=True, exist_ok=True)\n",
        "Path(path_output + 'labels/test/').mkdir(parents=True, exist_ok=True)\n",
        "Path(path_output + 'labels/train/').mkdir(parents=True, exist_ok=True)\n",
        "Path(path_output + 'labels/val/').mkdir(parents=True, exist_ok=True)\n",
        "\n",
        "##########################################################################################\n",
        "\n",
        "starttime = time.time()\n",
        "current = 0\n",
        "total = (len(os.listdir(input_path + 'images/test')) + len(os.listdir(input_path + 'images/train')) + len(os.listdir(input_path + 'images/test')))*len(color[0])\n",
        "\n",
        "for g in folders:\n",
        "    images_path = input_path + 'images/' + g\n",
        "    labels_path = input_path + 'labels/' + g\n",
        "    images_path_a = path_output + 'images/' + g\n",
        "    labels_path_a = path_output + 'labels/' + g\n",
        "\n",
        "    files = os.listdir(images_path)\n",
        "    files = [x.split('.')[0] for x in files]\n",
        "    \n",
        "    f = open(path_output + 'attack_output.txt', 'a')\n",
        "    f.write('******************************\\n')\n",
        "    f.write('Directory: ' + g + '\\n')\n",
        "    f.write('******************************\\n')\n",
        "    f.close()\n",
        "\n",
        "    for h in range(len(color[0])):\n",
        "        \n",
        "        opacy = []\n",
        "        for i in files:\n",
        "            img = cv2.imread(images_path + i + '.jpg')\n",
        "            img_blank = cv2.imread(images_path + i + '.jpg')\n",
        "            img_blank[:, :, :] = 0\n",
        "\n",
        "            current = current + 1\n",
        "            done = str(round((current/total)*100, 1))\n",
        "            time_total = str(round(((time.time()-starttime)/60)*total/current, 1))\n",
        "            time_left = str(round(((time.time()-starttime)*total/current - (time.time()-starttime))/60, 1))\n",
        "\n",
        "            for j in labels:\n",
        "                df_obj = yoloconversion(labels_path+i+'.txt', j, imagesize) # [x, y, w, h, class, xmin, xmax, ymin, ymax]\n",
        "                df_run = run(model, images_path+i+'.jpg', j, imagesize) # [xmin, ymin, xmax, ymax, confidence, class, class_name]\n",
        "\n",
        "                for k in range(len(df_obj)): # k: object number\n",
        "\n",
        "                    if sum(df_obj[k]) != sum([0, 0, 0, 0, 0, 0, 0, 0, 0]): # Is not an empty dataframe\n",
        "                        \n",
        "                        iou_list = [] # List of iou in each object (in case the model detect several bounding boxes in one object)\n",
        "                        for l in range(len(df_run)): # l: detected bounding box\n",
        "                            iou_list.append(intersectionoverunion([df_obj[k][5], df_obj[k][7], df_obj[k][6], df_obj[k][8]], df_run[l]))\n",
        "                            # [[xmin, ymin, xmax, ymax], [xmin, ymin, xmax, ymax]]\n",
        "                        iou = max(iou_list) # The intersection over union detected & object before atack\n",
        "                        \n",
        "                        # Attack a cropped image\n",
        "                        crop = cropimage(img, df_obj[k])\n",
        "                        img_crop = img[crop[1]:crop[3], crop[0]:crop[2]]\n",
        "                        img_filter = np.zeros((img_crop.shape[0], img_crop.shape[1], img_crop.shape[2]+1)) # image height*width and 3+1 channels\n",
        "\n",
        "                        for m in range(len(grid[0])): # m: patch sizes\n",
        "                            grid_size = [] # [x, y]\n",
        "                            grid_size.append((crop[6]-crop[4])/grid[0][m])\n",
        "                            grid_size.append((crop[7]-crop[5])/grid[0][m])\n",
        "\n",
        "                            for n in range(grid[0][m]): # n: coordinate x\n",
        "                                for o in range(grid[0][m]): # o: coordinate y\n",
        "                                    start_point = (int(n*grid_size[0]) + crop[4], int(o*grid_size[1]) + crop[5]) # [x,y]\n",
        "                                    end_point = (int((n+1)*grid_size[0]) + crop[4], int((o+1)*grid_size[1]) + crop[5]) # [x,y]\n",
        "\n",
        "                                    img_crop_patch = img_crop.copy() # A cropped img with a single patch\n",
        "\n",
        "                                    cv2.rectangle(img_crop_patch, start_point, end_point, color[0][h], -1) # (image, start_point, end_point, color, thickness)\n",
        "                                    df_run_crop_patch = run(model, img_crop_patch, j, img_crop_patch.shape)\n",
        "                                    iou_patch = intersectionoverunion([crop[4], crop[5], crop[6], crop[7]], df_run_crop_patch[0]) # [xmin, ymin, xmax, ymax], [xmin, ymin, xmax, ymax]\n",
        "\n",
        "                                    if iou_patch < 0:\n",
        "                                        iou_patch = 0\n",
        "                                    elif iou_patch > iou:\n",
        "                                        iou_patch = iou\n",
        "                                    \n",
        "                                    iou_dif = (iou - iou_patch)**1 *grid[1][m] # Attack intensity\n",
        "                                    \n",
        "                                    # Draw over the blank image\n",
        "                                    img_patch = np.zeros((img_crop.shape[0], img_crop.shape[1], img_crop.shape[2]+1)) # transparent image\n",
        "                                    img_patch[start_point[0]:end_point[0], start_point[1]:end_point[1], 3] = iou_dif # [xmin:xmax, ymin:ymax, channel] A patch img with a opacy of iou_difference value\n",
        "                                    img_filter = img_filter + img_patch # Add the opacy with the factor multiplicador\n",
        "\n",
        "                        # Calculate alpha\n",
        "                        alpha = 0\n",
        "                        if np.amax(img_filter) != 0: # Skip false positives\n",
        "                            alpha = 0\n",
        "                            iou_alpha = 1\n",
        "                            combo = 0 # veces seguidas que el ataque es sucessful\n",
        "                            iterating = True\n",
        "\n",
        "                            while iterating:\n",
        "                                alpha = alpha + 1\n",
        "\n",
        "                                img_filter_alpha = alpha/np.amax(img_filter) * img_filter\n",
        "                                img_filter_alpha[:, :, 0] = color[0][h][0] # set the Blue patch color\n",
        "                                img_filter_alpha[:, :, 1] = color[0][h][1] # set the Green patch color\n",
        "                                img_filter_alpha[:, :, 2] = color[0][h][2] # set the Red patch color\n",
        "\n",
        "                                cv2.imwrite('img_filter_alpha.png', img_filter_alpha) # save to load again\n",
        "                                img_filter_alpha = cv2.imread('img_filter_alpha.png', cv2.IMREAD_UNCHANGED) # Load the transparent patch unchanged\n",
        "\n",
        "                                img_crop_alpha = cvzone.overlayPNG(img_crop, img_filter_alpha) # image cropped with multiple patches\n",
        "                                df_run_crop_alpha = run(model, img_crop_alpha, j, img_crop_alpha.shape)\n",
        "                                iou_alpha = intersectionoverunion([crop[4], crop[5], crop[6], crop[7]], df_run_crop_alpha[0])\n",
        "\n",
        "                                if iou_alpha < 0.1:\n",
        "                                    combo = combo + 1\n",
        "                                else:\n",
        "                                    combo = 0\n",
        "\n",
        "                                if combo > 11:\n",
        "                                    iterating = False\n",
        "                                if alpha > 254:\n",
        "                                    iterating = False\n",
        "                            \n",
        "                            opacy.append(alpha)\n",
        "                            img_blank = cvzone.overlayPNG(img_blank , img_filter_alpha, pos=[crop[0], crop[1]])\n",
        "                            img = cvzone.overlayPNG(img, img_filter_alpha, pos=[crop[0], crop[1]])\n",
        "            \n",
        "            cv2.imwrite(path_output + 'patches/' + i + color[1][h] + '.jpg', img_blank)\n",
        "            cv2.imwrite(images_path_a + i + color[1][h] + '.jpg', img)\n",
        "            shutil.copy(labels_path + i + '.txt', labels_path_a + i + color[1][h] + '.txt')\n",
        "            \n",
        "            f = open(path_output + 'attack_output.txt', 'a')\n",
        "            f.write('Image: ' + i + color[1][h] + '.jpg' + ' --> Alpha: ' + str(round(alpha, 0)) + '\\n')\n",
        "            f.close()\n",
        "            \n",
        "            clear_output()\n",
        "            print('Image: ' + i + color[1][h] + '.jpg' + ' --> Alpha: ' + str(round(alpha, 0)))\n",
        "            print(done + '% --> ETA: ' + time_left + '/' + time_total + ' min')\n",
        "\n",
        "f = open(path_output + 'attack_output.txt', 'a')\n",
        "f.write('\\nTotal images: ' + str(total) + '\\n')\n",
        "f.write('Average alpha: ' + str(round(sum(opacy)/len(opacy), 0)) + '\\n')\n",
        "f.write('Total time: ' + str(round((time.time() - starttime)/60, 1)) + ' min')\n",
        "f.close()\n",
        "\n",
        "clear_output()\n",
        "print('Average alpha: ' + str(round(sum(opacy)/len(opacy), 0)))\n",
        "print('Total: ' + str(round((time.time() - starttime)/60, 1)) + ' min')\n",
        "\n",
        "os.remove('img_filter_alpha.png')"
      ]
    },
    {
      "cell_type": "markdown",
      "metadata": {
        "id": "AAyUmqKAV2Eo"
      },
      "source": [
        "## 4.2. Create robust model dataset"
      ]
    },
    {
      "cell_type": "code",
      "execution_count": null,
      "metadata": {
        "id": "9D_eKLuG0ztA"
      },
      "outputs": [],
      "source": [
        "robust_model = 'v100n_a' # base dataset name\n",
        "\n",
        "full_size_path = 'traffic_signs/' + base_dataset + '/' # traffic_signs/v/"
      ]
    },
    {
      "cell_type": "code",
      "execution_count": null,
      "metadata": {
        "id": "S3Yd-JFsv8fb"
      },
      "outputs": [],
      "source": [
        "import shutil\n",
        "import os\n",
        "\n",
        "folders = ['test/', 'train/', 'val/']\n",
        "\n",
        "shutil.copytree(full_size_path, 'traffic_signs/' + robust_model + '/train/') # Copy full size images: traffic_signs/v/ to traffic_signs/v100n/crop/\n",
        "\n",
        "# Copy adversarial dataset images\n",
        "for i in folders:\n",
        "    images = os.listdir('traffic_signs/' + robust_model + '/images/' + i)\n",
        "    labels = os.listdir('traffic_signs/' + robust_model + '/labels/' + i)\n",
        "\n",
        "    for j in images:\n",
        "        shutil.copy('traffic_signs/' + robust_model + '/images/' + i + j, 'traffic_signs/' + robust_model + '/train/images/' + i + j)\n",
        "    \n",
        "    for k in labels:\n",
        "        shutil.copy('traffic_signs/' + robust_model + '/labels/' + i + k, 'traffic_signs/' + robust_model + '/train/labels/' + i + k)"
      ]
    },
    {
      "cell_type": "markdown",
      "metadata": {
        "id": "3WWO5vU-iL_8"
      },
      "source": [
        "## 4.3. Train robust model"
      ]
    },
    {
      "cell_type": "code",
      "execution_count": null,
      "metadata": {
        "colab": {
          "base_uri": "https://localhost:8080/",
          "height": 35
        },
        "id": "9zbu9YGXiS8S",
        "outputId": "9d8d94fc-cc53-42a1-bf14-154fc8239529"
      },
      "outputs": [],
      "source": [
        "import shutil\n",
        "from IPython.display import clear_output\n",
        "\n",
        "!python train.py --batch 64 --epochs 1000 --data v100n_a.yaml --weights yolov5n.pt --patience 100 --cache --device 0\n",
        "clear_output()\n",
        "\n",
        "run = 'runs/train/exp2/weights/best.pt' # trained best model\n",
        "shutil.copy(run, 'traffic_signs/' + robust_model + '/' + robust_model + '.pt')"
      ]
    },
    {
      "cell_type": "markdown",
      "metadata": {
        "id": "sSLrngQGV2Eo"
      },
      "source": [
        "# 5. Testing"
      ]
    },
    {
      "cell_type": "code",
      "execution_count": null,
      "metadata": {
        "id": "RUthnTbRV2Eo"
      },
      "outputs": [],
      "source": [
        "base_model = 'v100n'\n",
        "base_model_pytorch = 'v100n.pt'\n",
        "robust_model = 'v100n_a'\n",
        "robust_model_pytorch = 'v100n_a.pt'\n",
        "\n",
        "test_dataset = 'v' # no attacked\n",
        "test_dataset_a = 'v_test' # attacked\n",
        "test_dataset_p = 'v_a' # patched\n",
        "\n",
        "labels = [0, 1, 2, 3]\n",
        "imagesize = [1920, 1080]"
      ]
    },
    {
      "cell_type": "markdown",
      "metadata": {
        "id": "S5gMRMDPV2Eo"
      },
      "source": [
        "# 5.1. Base model"
      ]
    },
    {
      "cell_type": "code",
      "execution_count": null,
      "metadata": {
        "id": "DfpOqDNkV2Ep"
      },
      "outputs": [],
      "source": [
        "from functions_test import test_map_several\n",
        "test_map_several(base_model, labels, imagesize, test_dataset_a, base_model_pytorch)"
      ]
    },
    {
      "cell_type": "code",
      "execution_count": null,
      "metadata": {
        "colab": {
          "base_uri": "https://localhost:8080/"
        },
        "id": "Gzo_Nf8yV2Ep",
        "outputId": "e4c16e38-a372-4c45-ffd8-55d7850230fb"
      },
      "outputs": [],
      "source": [
        "iou_t = 0.25 # IOU threshold\n",
        "\n",
        "from functions_test import test_map_single\n",
        "test_map_single(iou_t, base_model, labels, imagesize, test_dataset_a, base_model_pytorch)"
      ]
    },
    {
      "cell_type": "markdown",
      "metadata": {
        "id": "TE5PZ6Q1V2Ep"
      },
      "source": [
        "## 5.2. Robust model"
      ]
    },
    {
      "cell_type": "code",
      "execution_count": null,
      "metadata": {
        "id": "C_yZ3T4MV2Ep"
      },
      "outputs": [],
      "source": [
        "from functions_test import test_map_several\n",
        "test_map_several(robust_model, labels, imagesize, test_dataset_a, robust_model_pytorch)"
      ]
    },
    {
      "cell_type": "code",
      "execution_count": null,
      "metadata": {
        "colab": {
          "base_uri": "https://localhost:8080/"
        },
        "id": "z-9DkgpVV2Ep",
        "outputId": "5d6bfd7c-5179-4673-ce0c-def7d6e4c99b"
      },
      "outputs": [],
      "source": [
        "iou_t = 0.25 # IOU threshold\n",
        "\n",
        "from functions_test import test_map_single\n",
        "test_map_single(iou_t, robust_model, labels, imagesize, test_dataset_a, robust_model_pytorch)"
      ]
    }
  ],
  "metadata": {
    "accelerator": "GPU",
    "colab": {
      "name": "Adversarial-Attack-getting-started.ipynb",
      "provenance": []
    },
    "interpreter": {
      "hash": "7eabd979c969dbb935b3edd246af3d1eb868fbc23737535033d7f616ea0fdbb6"
    },
    "kernelspec": {
      "display_name": "Python 3.9.7 ('base')",
      "language": "python",
      "name": "python3"
    },
    "language_info": {
      "name": "python",
      "version": "3.9.7"
    },
    "orig_nbformat": 4
  },
  "nbformat": 4,
  "nbformat_minor": 0
}
