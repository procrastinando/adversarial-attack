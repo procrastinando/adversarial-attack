{
 "cells": [
  {
   "cell_type": "markdown",
   "id": "17cddc6b",
   "metadata": {},
   "source": [
    "# Dataset: v100n"
   ]
  },
  {
   "cell_type": "code",
   "execution_count": 1,
   "id": "1af9e771",
   "metadata": {},
   "outputs": [],
   "source": [
    "base_dataset = 'v'\n",
    "dataset = 'v100n'"
   ]
  },
  {
   "cell_type": "markdown",
   "id": "79a112b6",
   "metadata": {},
   "source": [
    "## 1. Split"
   ]
  },
  {
   "cell_type": "code",
   "execution_count": 11,
   "id": "5f65c068",
   "metadata": {},
   "outputs": [],
   "source": [
    "dataset = 'traffic_signs/v/'\n",
    "labels = [0, 1, 2, 3]\n",
    "proportion = [0.7, 0.2, 0.1]"
   ]
  },
  {
   "cell_type": "code",
   "execution_count": 12,
   "id": "1c0ca9a1",
   "metadata": {},
   "outputs": [],
   "source": [
    "import os\n",
    "import shutil\n",
    "import random\n",
    "from pathlib import Path\n",
    "\n",
    "Path(dataset + 'images/test/').mkdir(parents=True, exist_ok=True)\n",
    "Path(dataset + 'images/train/').mkdir(parents=True, exist_ok=True)\n",
    "Path(dataset + 'images/val/').mkdir(parents=True, exist_ok=True)\n",
    "Path(dataset + 'labels/test/').mkdir(parents=True, exist_ok=True)\n",
    "Path(dataset + 'labels/train/').mkdir(parents=True, exist_ok=True)\n",
    "Path(dataset + 'labels/val/').mkdir(parents=True, exist_ok=True)\n",
    "\n",
    "for k in labels:\n",
    "    images_files = os.listdir(dataset + 'images/' + str(k))\n",
    "    tvt = [0.7, 0.2, 0.1] # Train, validation, test\n",
    "    tvt[2] = int(len(images_files)*tvt[2])\n",
    "    tvt[1] = int(len(images_files)*tvt[1])\n",
    "    tvt[0] = len(images_files) - tvt[1] - tvt[2]\n",
    "    for i in range(tvt[2]):\n",
    "        images_files = os.listdir(dataset + 'images/' + str(k))\n",
    "        images_files_ne = [x.split('.')[0] for x in images_files]\n",
    "        random_image = random.choice(images_files_ne)\n",
    "        shutil.move(dataset + 'images/' + str(k) + '/' + random_image + '.jpg', dataset + 'images/test/' + random_image + '.jpg')\n",
    "        shutil.move(dataset + 'labels/' + str(k) + '/' + random_image + '.txt', dataset + 'labels/test/' + random_image + '.txt')\n",
    "    for i in range(tvt[1]):\n",
    "        images_files = os.listdir(dataset + 'images/' + str(k))\n",
    "        images_files_ne = [x.split('.')[0] for x in images_files]\n",
    "        random_image = random.choice(images_files_ne)\n",
    "        shutil.move(dataset + 'images/' + str(k) + '/' + random_image + '.jpg', dataset + 'images/val/')\n",
    "        shutil.move(dataset + 'labels/' + str(k) + '/' + random_image + '.txt', dataset + 'labels/val/')\n",
    "    for i in range(tvt[0]):\n",
    "        images_files = os.listdir(dataset + 'images/' + str(k))\n",
    "        images_files_ne = [x.split('.')[0] for x in images_files]\n",
    "        random_image = random.choice(images_files_ne)\n",
    "        shutil.move(dataset + 'images/' + str(k) + '/' + random_image + '.jpg', dataset + 'images/train/')\n",
    "        shutil.move(dataset + 'labels/' + str(k) + '/' + random_image + '.txt', dataset + 'labels/train/')\n",
    "    shutil.rmtree(dataset + 'images/' + str(k))\n",
    "    shutil.rmtree(dataset + 'labels/' + str(k))"
   ]
  },
  {
   "cell_type": "markdown",
   "id": "15dde951-f63e-471c-aedf-84f121072ec4",
   "metadata": {},
   "source": [
    "## 2. Create cropped images"
   ]
  },
  {
   "cell_type": "code",
   "execution_count": null,
   "id": "97512e65-2b28-4a12-b747-5413b2bcf13e",
   "metadata": {},
   "outputs": [],
   "source": [
    "from create_cropped import create_crop\n",
    "\n",
    "in_path = 'traffic_signs/' + base_dataset + '/'\n",
    "out_path = 'traffic_signs/' + base_dataset + '_crop/'\n",
    "directories = ['test/', 'train/', 'val/']\n",
    "imagesize = [1920, 1080]\n",
    "label_list = [0, 1, 2, 3]\n",
    "\n",
    "create_crop(in_path, out_path, directories, imagesize, label_list)"
   ]
  },
  {
   "cell_type": "markdown",
   "id": "2c44bcfb",
   "metadata": {},
   "source": [
    "## 3. Create v100n"
   ]
  },
  {
   "cell_type": "code",
   "execution_count": 4,
   "id": "9bca7794",
   "metadata": {},
   "outputs": [],
   "source": [
    "model = 'v100n' # Model name\n",
    "\n",
    "import shutil\n",
    "import os\n",
    "\n",
    "folders = ['test/', 'train/', 'val/']\n",
    "dataset_path = 'traffic_signs/' + dataset\n",
    "\n",
    "shutil.copytree(out_path, dataset_path + '/crop/')\n",
    "\n",
    "# Copy base images\n",
    "for i in folders:\n",
    "    images = os.listdir('traffic_signs/' + base_dataset + '/images/' + i)\n",
    "    labels = os.listdir('traffic_signs/' + base_dataset + '/labels/' + i)\n",
    "\n",
    "    for j in images:\n",
    "        shutil.copy('traffic_signs/' + base_dataset + '/images/' + i + j, dataset_path + '/crop/images/' + i + j)\n",
    "    \n",
    "    for k in labels:\n",
    "        shutil.copy('traffic_signs/' + base_dataset + '/labels/' + i + k, dataset_path + '/crop/labels/' + i + k)"
   ]
  }
 ],
 "metadata": {
  "interpreter": {
   "hash": "7eabd979c969dbb935b3edd246af3d1eb868fbc23737535033d7f616ea0fdbb6"
  },
  "kernelspec": {
   "display_name": "Python 3.9.7 ('base')",
   "language": "python",
   "name": "python3"
  },
  "language_info": {
   "codemirror_mode": {
    "name": "ipython",
    "version": 3
   },
   "file_extension": ".py",
   "mimetype": "text/x-python",
   "name": "python",
   "nbconvert_exporter": "python",
   "pygments_lexer": "ipython3",
   "version": "3.9.7"
  }
 },
 "nbformat": 4,
 "nbformat_minor": 5
}
