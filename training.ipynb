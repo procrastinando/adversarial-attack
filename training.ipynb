{
 "cells": [
  {
   "cell_type": "markdown",
   "metadata": {},
   "source": [
    "# Model: v100n"
   ]
  },
  {
   "cell_type": "code",
   "execution_count": null,
   "metadata": {},
   "outputs": [],
   "source": [
    "model = 'v100n' # Model name"
   ]
  },
  {
   "cell_type": "markdown",
   "metadata": {},
   "source": [
    "## 1. Train"
   ]
  },
  {
   "cell_type": "code",
   "execution_count": null,
   "metadata": {},
   "outputs": [],
   "source": [
    "import shutil\n",
    "from IPython.display import clear_output\n",
    "\n",
    "!python train.py --batch 64 --epochs 1000 --data v100n.yaml --weights yolov5n.pt --patience 100 --cache --device 0\n",
    "clear_output()\n",
    "\n",
    "run = 'runs/train/exp/weights/best.pt' # trained best model\n",
    "shutil.copy(run, 'traffic_signs/' + model + '/' + model + '.pt')"
   ]
  }
 ],
 "metadata": {
  "interpreter": {
   "hash": "7eabd979c969dbb935b3edd246af3d1eb868fbc23737535033d7f616ea0fdbb6"
  },
  "kernelspec": {
   "display_name": "Python 3.9.7 ('base')",
   "language": "python",
   "name": "python3"
  },
  "language_info": {
   "codemirror_mode": {
    "name": "ipython",
    "version": 3
   },
   "file_extension": ".py",
   "mimetype": "text/x-python",
   "name": "python",
   "nbconvert_exporter": "python",
   "pygments_lexer": "ipython3",
   "version": "3.9.7"
  }
 },
 "nbformat": 4,
 "nbformat_minor": 4
}
